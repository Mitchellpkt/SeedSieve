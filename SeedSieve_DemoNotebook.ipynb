{
 "cells": [
  {
   "cell_type": "markdown",
   "metadata": {},
   "source": [
    "# Seed Sieve\n",
    "***2018.05 IsthmusCrypto: isthmuscrypto@protonmail.com***\n",
    "\n",
    "This seedSieve function is a tool for stripping cryptocurrency seed mnemonic phrases from text fields or databases to protect users from theft. \n",
    "\n",
    "Allowing users to accidentally or intentionally/foolishly send or store seed mnemonic phrases in your data sets or streams opens them up to high risk of theft from malicious parties. In almost all cases and services, this increases liabilities and offers no benefits. \n",
    "\n",
    "Here is an easy method for removing such data, implemented with the BIP39 library, pending inclusion of others. It scans the text to identify strings with high density of seed words, and redacts them. \n",
    "\n",
    "Any service that transmits user data and is NOT suitable for sending sensitive financial information (e.g. user logs, message boards, chat services) should implement the seed sieve on the device, before transmitting the field. \n",
    "\n",
    "Any entity passing along user data to {marketing, analysis, etc, or any third party} should apply the seed sieve first to reduce risk & liability. If this data set is to be used for learning, this should actually increase accuracy by removing the red-herrings (e.g. \"apple\" being about fruits) and properly labeling the text as cryptocurrency-related.\n",
    "\n",
    "2018-05 known bugs:\n",
    "\n",
    "-  \"if wordOnly in wordlist\" matches substrings\n",
    "\n",
    "Wishlist:\n",
    "\n",
    "- support for other dictionary files besides BIP39 English (other languages & cryptocurrencies)\n",
    "\n",
    "    -  Could be done by looping over multiple dictionaries (cleaner)\n",
    "    \n",
    "    -  Could be done by making de-deuped union of multiple dectionaries (lighter)\n",
    "    \n",
    "- Sliding seedSieve wrapper: Scan a window of fixed word-size (e.g. N_w = 36 words) across large inputs, and apply seed-sieve redaction to each snip. Imagine a user that pastes a 24-word seed into the middle of the 272 words of the Gettysburg Address. Current implementation would not trigger seed sieve; however, the sliding seed sieve would trigger when the window hits the phrase with 24+ of (N_w = ) 36 words returning dictionary matches.\n",
    "\n",
    "- Implementation in other languages. Java*? C*?\n",
    "\n",
    "- Parameters here (default_minimumSeedHits = 7; default_seedRatio = 0.3;) were selected as educated guesses after ~ 20 minutes of glancing through various types of English writing. Open to suggestions for improvements, especially if backed by testing on some seed-spiked corpus, quantified by error metrics (accuracy, false +/- rates, etc)"
   ]
  },
  {
   "cell_type": "code",
   "execution_count": 1,
   "metadata": {},
   "outputs": [],
   "source": [
    "def seedSieve(rawStr, minimumSeedHits, seedRatio, wordlist, replaceWith):\n",
    "    \n",
    "    import re; # regular expressions\n",
    "\n",
    "    # initialization\n",
    "    qTriggered = 0; # init 0, whether to redact\n",
    "    counts = 0; # init 0, num seed words counter\n",
    "    foundThese = []; # init empty\n",
    "    rawStrWords = rawStr.split();\n",
    "    \n",
    "    # count (loop) over words in the input string \n",
    "    for word in rawStrWords: \n",
    "        wordOnly = re.sub('[^A-Za-z]+', '',word.lower()); # lowercase & remove punctuation\n",
    "        if wordOnly in wordlist:\n",
    "            counts = counts + 1;\n",
    "            foundThese.append(wordOnly)\n",
    "            \n",
    "    # Calculate ratio of seedwords to all words\n",
    "    numWordsTotal = len(rawStr.split());\n",
    "    actualRatio = counts/numWordsTotal;\n",
    "        \n",
    "    # set triggered if both criteria met\n",
    "    if (actualRatio > seedRatio) and (counts > minimumSeedHits):\n",
    "        qTriggered = 1;\n",
    "    \n",
    "    if(qTriggered):\n",
    "        cleaningString = rawStr;\n",
    "        for word in foundThese:\n",
    "            cleaningString = re.sub(word, replaceWith, cleaningString, flags=re.I); \n",
    "        outputString = cleaningString\n",
    "    else:\n",
    "        outputString = rawStr;\n",
    "    \n",
    "    return [outputString, qTriggered]"
   ]
  },
  {
   "cell_type": "markdown",
   "metadata": {},
   "source": [
    "## Default parameters:"
   ]
  },
  {
   "cell_type": "code",
   "execution_count": 2,
   "metadata": {},
   "outputs": [],
   "source": [
    "# Import a wordlist\n",
    "import os # for proper file separator to wordlist subdirectory\n",
    "\n",
    "default_minimumSeedHits = 7; # How many seed words must be observed to trigger redaction\n",
    "default_seedRatio = 0.3; # Minimum ratio (0,1) of seed:all words to trigger redaction\n",
    "wordlistFile = open(os.path.join('wordlists','bip39.txt'), 'r'); # open wordlist, e.g. BIP39\n",
    "default_wordlist= wordlistFile.read();\n",
    "default_replaceWith = \"[#BIP39]\"; # string to mark redacted words"
   ]
  },
  {
   "cell_type": "markdown",
   "metadata": {},
   "source": [
    "## Input string(s):"
   ]
  },
  {
   "cell_type": "code",
   "execution_count": 3,
   "metadata": {},
   "outputs": [],
   "source": [
    "# multiStr contains several example strings\n",
    "multiStr =  [\n",
    "\"retreat brisk ball dirt cushion skill catalog afford explain pigeon mail few elegant avoid gallery\",\n",
    "\"A man, a plan, a canal, panama\",\n",
    "\"Apple farm near upstate New York.\",\n",
    "\"Lorem ipsum dolor sit amet, consectetur adipiscing\",\n",
    "\"Lorem Ipsum is simply dummy text of the printing and typesetting industry.\",\n",
    "\"R4ndom padding words won't stop hackers, income spoil awake soccer action twist sadness able client topple stairs nice industry labor spice, But the seed sieve will\",\n",
    "\"Please help improve this project at github.com/Mitchellpkt/SeedSieve\"];\n"
   ]
  },
  {
   "cell_type": "markdown",
   "metadata": {},
   "source": [
    "## Demonstrate seedSieve:"
   ]
  },
  {
   "cell_type": "code",
   "execution_count": 4,
   "metadata": {},
   "outputs": [
    {
     "name": "stdout",
     "output_type": "stream",
     "text": [
      "\n",
      "\n",
      "********************\n",
      "********************\n",
      "Input string:\n",
      "\"retreat brisk ball dirt cushion skill catalog afford explain pigeon mail few elegant avoid gallery\"\n",
      "---------------\n",
      "Output string:\n",
      "\"[#BIP39] [#BIP39] [#BIP39] [#BIP39] [#BIP39] [#BIP39] [#BIP39] [#BIP39] [#BIP39] [#BIP39] [#BIP39] [#BIP39] [#BIP39] [#BIP39] [#BIP39]\"\n",
      "\n",
      "\n",
      "********************\n",
      "********************\n",
      "Input string:\n",
      "\"A man, a plan, a canal, panama\"\n",
      "---------------\n",
      "Output string:\n",
      "\"A man, a plan, a canal, panama\"\n",
      "\n",
      "\n",
      "********************\n",
      "********************\n",
      "Input string:\n",
      "\"Apple farm near upstate New York.\"\n",
      "---------------\n",
      "Output string:\n",
      "\"Apple farm near upstate New York.\"\n",
      "\n",
      "\n",
      "********************\n",
      "********************\n",
      "Input string:\n",
      "\"Lorem ipsum dolor sit amet, consectetur adipiscing\"\n",
      "---------------\n",
      "Output string:\n",
      "\"Lorem ipsum dolor sit amet, consectetur adipiscing\"\n",
      "\n",
      "\n",
      "********************\n",
      "********************\n",
      "Input string:\n",
      "\"Lorem Ipsum is simply dummy text of the printing and typesetting industry.\"\n",
      "---------------\n",
      "Output string:\n",
      "\"Lorem Ipsum is simply dummy text of the printing and typesetting industry.\"\n",
      "\n",
      "\n",
      "********************\n",
      "********************\n",
      "Input string:\n",
      "\"R4ndom padding words won't stop hackers, income spoil awake soccer action twist sadness able client topple stairs nice industry labor spice, But the seed sieve will\"\n",
      "---------------\n",
      "Output string:\n",
      "\"R4ndom padding words won't stop hackers, [#BIP39] [#BIP39] [#BIP39] [#BIP39] [#BIP39] [#BIP39] [#BIP39] [#BIP39] [#BIP39] [#BIP39] [#BIP39] [#BIP39] [#BIP39] [#BIP39] [#BIP39], [#BIP39] [#BIP39] [#BIP39] sieve [#BIP39]\"\n",
      "\n",
      "\n",
      "********************\n",
      "********************\n",
      "Input string:\n",
      "\"Please help improve this project at github.com/Mitchellpkt/SeedSieve\"\n",
      "---------------\n",
      "Output string:\n",
      "\"Please help improve this project at github.com/Mitchellpkt/SeedSieve\"\n"
     ]
    }
   ],
   "source": [
    "# Here is actual function call, with several examples\n",
    "for testString in multiStr:\n",
    "    [outputString,qTriggered] = seedSieve(testString, default_minimumSeedHits, default_seedRatio, default_wordlist, default_replaceWith);\n",
    "    \n",
    "    # display the results\n",
    "    print('\\n\\n'+20*'*'+'\\n'+20*'*')\n",
    "    print('Input string:')\n",
    "    print('\\\"'+testString+'\\\"')\n",
    "    print(15*'-'+'\\nOutput string:')\n",
    "    print('\\\"'+outputString+'\\\"')\n",
    "\n",
    "    \n",
    "    "
   ]
  }
 ],
 "metadata": {
  "kernelspec": {
   "display_name": "Python 3",
   "language": "python",
   "name": "python3"
  },
  "language_info": {
   "codemirror_mode": {
    "name": "ipython",
    "version": 3
   },
   "file_extension": ".py",
   "mimetype": "text/x-python",
   "name": "python",
   "nbconvert_exporter": "python",
   "pygments_lexer": "ipython3",
   "version": "3.6.4"
  }
 },
 "nbformat": 4,
 "nbformat_minor": 2
}
